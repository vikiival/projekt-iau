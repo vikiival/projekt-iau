{
 "cells": [
  {
   "cell_type": "markdown",
   "metadata": {},
   "source": [
    "# Inteligentná analýza údajov, zimný\n",
    "\n",
    "### Prieskumná analýza\n",
    "\n",
    "- **Opis dát spolu s ich charakteristikami** \n",
    "počet záznamov, počet atribútov, ich typy,\n",
    "distribúcie, základné deskriptívne štatistiky a pod.)\n",
    "vrátane preskúmania vzťahov medzi dvojicami atribútov.\n",
    "\n",
    "- **Formulácia a overenie hypotéz o dátach.** Mali by ste sformulovať aspoň dve\n",
    "hypotézy o dátach, ktoré budú relevantné v kontexte zadanej predikčnej úlohy.\n",
    "Príkladom hypotézy môže byť, že pacienti s chorobou štítnej žľazy majú v priemere\n",
    "inú (vyššiu/nižšiu) hodnotu nejakej látky alebo hormónu ako pacienti bez danej_\n",
    "\n",
    "#### choroby. Vami sformulované hypotézy overte vhodne zvoleným štatistickým testom.\n",
    "\n",
    "```\n",
    "● Identifikácia problémov v dátach spolu s predpokladaným scenárom riešenia v\n",
    "ďalšej fáze ​, t. j., čo budete musieť v rámci predspracovania vyriešiť (aj s\n",
    "naznačením možností, ako tieto problémy plánujete v ďalšej fáze riešiť). Medzi\n",
    "problémy, na ktoré môžete v rámci analýzy naraziť, patria napr.:\n",
    "```\n",
    "\n",
    "- nevhodná štruktúra dát (dáta nie sú v tabuľkovej podobe alebo jedna entita je\n",
    "opísaná viacerými riadkami tabuľky)\n",
    "- duplicitné záznamy, resp. nejednoznačné mapovanie medzi záznamami\n",
    "- nejednotné formáty dát\n",
    "- chýbajúce hodnoty\n",
    "- vychýlené (odľahlé) hodnoty\n",
    "- a ďalšie, t. j. v dátach sa môžu nachádzať aj iné, tu nevymenované problémy,\n",
    "ktoré tiež treba identifikovať a vo vašej analýze adresovať.\n",
    "V odovzdanej správe (​Jupyter Notebooku​) by ste tak mali vedieť zodpovedať na otázky:\n",
    "- Majú dáta vhodný formát pre ďalšie spracovanie? Ak nie, aké problémy sa v nich\n",
    "vyskytujú?\n",
    "- Sú niektoré atribúty medzi sebou závislé? Od ktorých (jednotlivých) atribútov závisí\n",
    "predikovaná premenná?\n",
    "- Sú v dátach chýbajúce hodnoty? Ako sú reprezentované? Ako plánujete riešiť\n",
    "problém chýbajúcich hodnôt pre jednotlivé atribúty, resp. pozorovania? (Pre rôzne\n",
    "atribúty môže byť vhodné použiť rôzne stratégie.)\n",
    "- Nadobúdajú niektoré atribúty nezmyselné (nekonzistentné) či inak výrazne odchýlené\n",
    "hodnoty? Ktoré?\n",
    "- Ako plánujete v ďalšej fáze tieto identifikované problémy adresovať / riešiť?"
   ]
  },
  {
   "cell_type": "markdown",
   "metadata": {},
   "source": [
    "## Hypotezy\n",
    "\n",
    "- Tehotne zeny su nachylnejsie na chorobu stitnej zlazy\n",
    "- Ludia s vyssim vzelanim su menej nachylni na chorobu"
   ]
  },
  {
   "cell_type": "code",
   "execution_count": 3,
   "metadata": {},
   "outputs": [],
   "source": [
    "import pandas as pd\n",
    "import numpy as np\n",
    "\n",
    "data = pd.read_csv('dataset/personal_train.csv')"
   ]
  },
  {
   "cell_type": "code",
   "execution_count": 4,
   "metadata": {},
   "outputs": [
    {
     "data": {
      "text/html": [
       "<div>\n",
       "<style scoped>\n",
       "    .dataframe tbody tr th:only-of-type {\n",
       "        vertical-align: middle;\n",
       "    }\n",
       "\n",
       "    .dataframe tbody tr th {\n",
       "        vertical-align: top;\n",
       "    }\n",
       "\n",
       "    .dataframe thead th {\n",
       "        text-align: right;\n",
       "    }\n",
       "</style>\n",
       "<table border=\"1\" class=\"dataframe\">\n",
       "  <thead>\n",
       "    <tr style=\"text-align: right;\">\n",
       "      <th></th>\n",
       "      <th>Unnamed: 0</th>\n",
       "      <th>name</th>\n",
       "      <th>address</th>\n",
       "      <th>age</th>\n",
       "      <th>sex</th>\n",
       "      <th>date_of_birth</th>\n",
       "    </tr>\n",
       "  </thead>\n",
       "  <tbody>\n",
       "    <tr>\n",
       "      <th>0</th>\n",
       "      <td>0</td>\n",
       "      <td>Edith Boudreaux</td>\n",
       "      <td>11818 Lori Crossing Apt. 802\\nPughstad, DC 78165</td>\n",
       "      <td>25.0</td>\n",
       "      <td>F</td>\n",
       "      <td>1993-07-10 00:00:00</td>\n",
       "    </tr>\n",
       "    <tr>\n",
       "      <th>1</th>\n",
       "      <td>1</td>\n",
       "      <td>Terry Terry</td>\n",
       "      <td>PSC 4657, Box 5446\\nAPO AP 58412</td>\n",
       "      <td>57.0</td>\n",
       "      <td>M</td>\n",
       "      <td>1961-10-04</td>\n",
       "    </tr>\n",
       "    <tr>\n",
       "      <th>2</th>\n",
       "      <td>2</td>\n",
       "      <td>Janet Washington</td>\n",
       "      <td>Unit 9759 Box 9470\\nDPO AP 45549</td>\n",
       "      <td>36.0</td>\n",
       "      <td>F</td>\n",
       "      <td>1982-01-28 00:00:00</td>\n",
       "    </tr>\n",
       "    <tr>\n",
       "      <th>3</th>\n",
       "      <td>3</td>\n",
       "      <td>Stephen Lalk</td>\n",
       "      <td>137 Lewis Flat Suite 762\\nWest Elizabeth, AL 3...</td>\n",
       "      <td>68.0</td>\n",
       "      <td>M</td>\n",
       "      <td>50-06-11</td>\n",
       "    </tr>\n",
       "    <tr>\n",
       "      <th>4</th>\n",
       "      <td>4</td>\n",
       "      <td>Abraham Bruce</td>\n",
       "      <td>995 Frank Stravenue\\nSouth Matthewport, TX 81402</td>\n",
       "      <td>79.0</td>\n",
       "      <td>m</td>\n",
       "      <td>1939/02/12</td>\n",
       "    </tr>\n",
       "  </tbody>\n",
       "</table>\n",
       "</div>"
      ],
      "text/plain": [
       "   Unnamed: 0              name  \\\n",
       "0           0   Edith Boudreaux   \n",
       "1           1       Terry Terry   \n",
       "2           2  Janet Washington   \n",
       "3           3      Stephen Lalk   \n",
       "4           4     Abraham Bruce   \n",
       "\n",
       "                                             address   age sex  \\\n",
       "0   11818 Lori Crossing Apt. 802\\nPughstad, DC 78165  25.0   F   \n",
       "1                   PSC 4657, Box 5446\\nAPO AP 58412  57.0   M   \n",
       "2                   Unit 9759 Box 9470\\nDPO AP 45549  36.0   F   \n",
       "3  137 Lewis Flat Suite 762\\nWest Elizabeth, AL 3...  68.0   M   \n",
       "4   995 Frank Stravenue\\nSouth Matthewport, TX 81402  79.0   m   \n",
       "\n",
       "         date_of_birth  \n",
       "0  1993-07-10 00:00:00  \n",
       "1           1961-10-04  \n",
       "2  1982-01-28 00:00:00  \n",
       "3             50-06-11  \n",
       "4           1939/02/12  "
      ]
     },
     "execution_count": 4,
     "metadata": {},
     "output_type": "execute_result"
    }
   ],
   "source": [
    "data.head()"
   ]
  },
  {
   "cell_type": "code",
   "execution_count": 5,
   "metadata": {},
   "outputs": [
    {
     "name": "stdout",
     "output_type": "stream",
     "text": [
      "<class 'pandas.core.frame.DataFrame'>\n",
      "RangeIndex: 2237 entries, 0 to 2236\n",
      "Data columns (total 6 columns):\n",
      "Unnamed: 0       2237 non-null int64\n",
      "name             2237 non-null object\n",
      "address          2237 non-null object\n",
      "age              2236 non-null float64\n",
      "sex              2237 non-null object\n",
      "date_of_birth    2236 non-null object\n",
      "dtypes: float64(1), int64(1), object(4)\n",
      "memory usage: 104.9+ KB\n"
     ]
    }
   ],
   "source": [
    "data.info()"
   ]
  },
  {
   "cell_type": "code",
   "execution_count": 6,
   "metadata": {},
   "outputs": [
    {
     "data": {
      "text/plain": [
       "2237"
      ]
     },
     "execution_count": 6,
     "metadata": {},
     "output_type": "execute_result"
    }
   ],
   "source": [
    "data.shape[0]"
   ]
  }
 ],
 "metadata": {
  "kernelspec": {
   "display_name": "Python 3",
   "language": "python",
   "name": "python3"
  },
  "language_info": {
   "codemirror_mode": {
    "name": "ipython",
    "version": 3
   },
   "file_extension": ".py",
   "mimetype": "text/x-python",
   "name": "python",
   "nbconvert_exporter": "python",
   "pygments_lexer": "ipython3",
   "version": "3.7.0"
  }
 },
 "nbformat": 4,
 "nbformat_minor": 2
}
